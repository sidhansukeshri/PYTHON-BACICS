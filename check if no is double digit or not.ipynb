{
  "nbformat": 4,
  "nbformat_minor": 0,
  "metadata": {
    "colab": {
      "provenance": [],
      "authorship_tag": "ABX9TyNsjiqh6HyEML7Bm9Y0gDht",
      "include_colab_link": true
    },
    "kernelspec": {
      "name": "python3",
      "display_name": "Python 3"
    },
    "language_info": {
      "name": "python"
    }
  },
  "cells": [
    {
      "cell_type": "markdown",
      "metadata": {
        "id": "view-in-github",
        "colab_type": "text"
      },
      "source": [
        "<a href=\"https://colab.research.google.com/github/sidhansukeshri/REGISTRATION-NO.-RA2211042010032-PYTHON--BASICS-/blob/main/check%20if%20no%20is%20double%20digit%20or%20not.ipynb\" target=\"_parent\"><img src=\"https://colab.research.google.com/assets/colab-badge.svg\" alt=\"Open In Colab\"/></a>"
      ]
    },
    {
      "cell_type": "code",
      "execution_count": 5,
      "metadata": {
        "colab": {
          "base_uri": "https://localhost:8080/"
        },
        "id": "h0SlkL0YIpBI",
        "outputId": "64f497b9-24ee-4fee-d485-ad175ae71ded"
      },
      "outputs": [
        {
          "output_type": "stream",
          "name": "stdout",
          "text": [
            "enter the number:30\n",
            "The number you entered is : 30\n",
            "The number is double digit\n"
          ]
        }
      ],
      "source": [
        "num=int(input(\"enter the number:\"))\n",
        "print(\"The number you entered is :\",num)\n",
        "if (num>99):\n",
        "  print(\"The number is not double digit!\")\n",
        "elif (num<99):\n",
        "  print(\"The number is double digit!\")\n"
      ]
    }
  ]
}