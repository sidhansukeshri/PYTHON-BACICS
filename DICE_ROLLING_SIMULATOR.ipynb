{
  "nbformat": 4,
  "nbformat_minor": 0,
  "metadata": {
    "colab": {
      "provenance": [],
      "authorship_tag": "ABX9TyP2s/RUyHhoU99ejRvc6Hco",
      "include_colab_link": true
    },
    "kernelspec": {
      "name": "python3",
      "display_name": "Python 3"
    },
    "language_info": {
      "name": "python"
    }
  },
  "cells": [
    {
      "cell_type": "markdown",
      "metadata": {
        "id": "view-in-github",
        "colab_type": "text"
      },
      "source": [
        "<a href=\"https://colab.research.google.com/github/sidhansukeshri/REGISTRATION-NO.-RA2211042010032-PYTHON--BASICS-/blob/main/DIVE_ROLLING_SIMULATOR.ipynb\" target=\"_parent\"><img src=\"https://colab.research.google.com/assets/colab-badge.svg\" alt=\"Open In Colab\"/></a>"
      ]
    },
    {
      "cell_type": "code",
      "execution_count": 1,
      "metadata": {
        "colab": {
          "base_uri": "https://localhost:8080/"
        },
        "id": "8acP529MReLY",
        "outputId": "b490305c-7635-4e4e-cb7d-1e5eb516e534"
      },
      "outputs": [
        {
          "name": "stdout",
          "output_type": "stream",
          "text": [
            "DO YOU WANNA ROLL THE DICE? (Y/N) y\n",
            "THE NUMBER IS : 5\n",
            "\n",
            "        -------\n",
            "       [ 0   0 ]\n",
            "       [   0   ]\n",
            "       [ 0   0 ]\n",
            "        -------\n",
            "       \n",
            "DO YOU WANNA ROLL THE DICE? (Y/N) y\n",
            "THE NUMBER IS : 3\n",
            "\n",
            "        -------\n",
            "       [ 0     ]\n",
            "       [   0   ]\n",
            "       [     0 ]\n",
            "        -------\n",
            "       \n",
            "DO YOU WANNA ROLL THE DICE? (Y/N) y\n",
            "THE NUMBER IS : 1\n",
            "\n",
            "        -------\n",
            "       [       ]\n",
            "       [   0   ]\n",
            "       [       ]\n",
            "        -------\n",
            "       \n",
            "DO YOU WANNA ROLL THE DICE? (Y/N) y\n",
            "THE NUMBER IS : 4\n",
            "\n",
            "        -------\n",
            "       [ 0   0 ]\n",
            "       [       ]\n",
            "       [ 0   0 ]\n",
            "        -------\n",
            "       \n",
            "DO YOU WANNA ROLL THE DICE? (Y/N) y\n",
            "THE NUMBER IS : 3\n",
            "\n",
            "        -------\n",
            "       [ 0     ]\n",
            "       [   0   ]\n",
            "       [     0 ]\n",
            "        -------\n",
            "       \n",
            "DO YOU WANNA ROLL THE DICE? (Y/N) N\n"
          ]
        }
      ],
      "source": [
        "import random\n",
        "while input(\"DO YOU WANNA ROLL THE DICE? (Y/N) \").upper() == \"Y\":\n",
        "  num=random.randint(1,6)\n",
        "  print(\"THE NUMBER IS :\",num)\n",
        "  if num==1:\n",
        "    print(\n",
        "        '''\n",
        "        -------\n",
        "       [       ]\n",
        "       [   0   ]\n",
        "       [       ]\n",
        "        -------\n",
        "       '''\n",
        "    )\n",
        "  elif num==2:\n",
        "    print(\n",
        "        '''\n",
        "        -------\n",
        "       [  0    ]\n",
        "       [       ]\n",
        "       [     0 ]\n",
        "        -------\n",
        "       '''\n",
        "    )\n",
        "  elif num==3:\n",
        "    print(\n",
        "        '''\n",
        "        -------\n",
        "       [ 0     ]\n",
        "       [   0   ]\n",
        "       [     0 ]\n",
        "        -------\n",
        "       '''\n",
        "    )\n",
        "  elif num==4:\n",
        "    print(\n",
        "        '''\n",
        "        -------\n",
        "       [ 0   0 ]\n",
        "       [       ]\n",
        "       [ 0   0 ]\n",
        "        -------\n",
        "       '''\n",
        "    )\n",
        "  elif num==5:\n",
        "    print(\n",
        "        '''\n",
        "        -------\n",
        "       [ 0   0 ]\n",
        "       [   0   ]\n",
        "       [ 0   0 ]\n",
        "        -------\n",
        "       '''\n",
        "    )\n",
        "  elif num==6:\n",
        "    print(\n",
        "         '''\n",
        "        -------\n",
        "       [ 0 0 0 ]\n",
        "       [ 0 0 0 ]\n",
        "       [ 0 0 0 ]\n",
        "        -------\n",
        "       '''\n",
        "    )"
      ]
    }
  ]
}
