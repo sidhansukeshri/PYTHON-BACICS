{
  "nbformat": 4,
  "nbformat_minor": 0,
  "metadata": {
    "colab": {
      "provenance": [],
      "authorship_tag": "ABX9TyNQSQy8Xrb6pI9RKPjFco2G",
      "include_colab_link": true
    },
    "kernelspec": {
      "name": "python3",
      "display_name": "Python 3"
    },
    "language_info": {
      "name": "python"
    }
  },
  "cells": [
    {
      "cell_type": "markdown",
      "metadata": {
        "id": "view-in-github",
        "colab_type": "text"
      },
      "source": [
        "<a href=\"https://colab.research.google.com/github/sidhansukeshri/REGISTRATION-NO.-RA2211042010032-PYTHON--BASICS-/blob/main/division%20of%20a%20and%20b.ipynb\" target=\"_parent\"><img src=\"https://colab.research.google.com/assets/colab-badge.svg\" alt=\"Open In Colab\"/></a>"
      ]
    },
    {
      "cell_type": "code",
      "execution_count": 8,
      "metadata": {
        "colab": {
          "base_uri": "https://localhost:8080/"
        },
        "id": "h0SlkL0YIpBI",
        "outputId": "b77d00f9-b781-4152-de28-e862b0f42f95"
      },
      "outputs": [
        {
          "output_type": "stream",
          "name": "stdout",
          "text": [
            "Division : 1.8\n"
          ]
        }
      ],
      "source": [
        "a=90\n",
        "b=50\n",
        "print(\"Division :\",a/b)"
      ]
    }
  ]
}