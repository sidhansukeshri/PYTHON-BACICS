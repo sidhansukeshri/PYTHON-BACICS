{
  "nbformat": 4,
  "nbformat_minor": 0,
  "metadata": {
    "colab": {
      "provenance": [],
      "authorship_tag": "ABX9TyPVku+mnOMwFVRRZA8XabEC",
      "include_colab_link": true
    },
    "kernelspec": {
      "name": "python3",
      "display_name": "Python 3"
    },
    "language_info": {
      "name": "python"
    }
  },
  "cells": [
    {
      "cell_type": "markdown",
      "metadata": {
        "id": "view-in-github",
        "colab_type": "text"
      },
      "source": [
        "<a href=\"https://colab.research.google.com/github/sidhansukeshri/REGISTRATION-NO.-RA2211042010032-PYTHON--BASICS-/blob/main/DICE_ROLLING_.ipynb\" target=\"_parent\"><img src=\"https://colab.research.google.com/assets/colab-badge.svg\" alt=\"Open In Colab\"/></a>"
      ]
    },
    {
      "cell_type": "code",
      "execution_count": 16,
      "metadata": {
        "colab": {
          "base_uri": "https://localhost:8080/"
        },
        "id": "jjhfSTywMqtF",
        "outputId": "4cfb9bf9-5ead-4ede-c9ef-7c388fb058f9"
      },
      "outputs": [
        {
          "name": "stdout",
          "output_type": "stream",
          "text": [
            "DO YOU WANNA ROLL THE DICE? (Y/N) Y\n",
            "THE NUMBER IS : 1\n",
            "DO YOU WANNA ROLL THE DICE? (Y/N) Y\n",
            "THE NUMBER IS : 2\n",
            "DO YOU WANNA ROLL THE DICE? (Y/N) Y\n",
            "THE NUMBER IS : 6\n",
            "DO YOU WANNA ROLL THE DICE? (Y/N) N\n"
          ]
        }
      ],
      "source": [
        "import random\n",
        "y=0\n",
        "n=[1,2,3,4,5,6]\n",
        "while input(\"DO YOU WANNA ROLL THE DICE? (Y/N) \").upper() == \"Y\":\n",
        "  num=random.choice(n)\n",
        "  print(\"THE NUMBER IS :\",num)\n"
      ]
    }
  ]
}