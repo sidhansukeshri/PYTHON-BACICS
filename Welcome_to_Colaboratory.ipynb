{
  "cells": [
    {
      "cell_type": "markdown",
      "metadata": {
        "id": "view-in-github",
        "colab_type": "text"
      },
      "source": [
        "<a href=\"https://colab.research.google.com/github/sidhansukeshri/PYTHON-BACICS/blob/main/Welcome_to_Colaboratory.ipynb\" target=\"_parent\"><img src=\"https://colab.research.google.com/assets/colab-badge.svg\" alt=\"Open In Colab\"/></a>"
      ]
    },
    {
      "cell_type": "code",
      "source": [
        "print(\"This ia a new repo for python by sidhansu keshri!\")\n",
        "print(\"My reg no is RA2211042010032!\")\n",
        "print(\"This repo in connected to my google colab!\")"
      ],
      "metadata": {
        "id": "O6ec-QF_FLln",
        "outputId": "066a7a8c-3eaa-41e9-b3ad-7ffa784840b1",
        "colab": {
          "base_uri": "https://localhost:8080/"
        }
      },
      "execution_count": 2,
      "outputs": [
        {
          "output_type": "stream",
          "name": "stdout",
          "text": [
            "This ia a new repo for python by sidhansu keshri\n",
            "My reg no is RA2211042010032\n",
            "This repo in connected to my google colab\n"
          ]
        }
      ]
    }
  ],
  "metadata": {
    "colab": {
      "name": "Welcome to Colaboratory",
      "toc_visible": true,
      "provenance": [],
      "include_colab_link": true
    },
    "kernelspec": {
      "display_name": "Python 3",
      "name": "python3"
    }
  },
  "nbformat": 4,
  "nbformat_minor": 0
}