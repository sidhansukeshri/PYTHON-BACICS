{
  "nbformat": 4,
  "nbformat_minor": 0,
  "metadata": {
    "colab": {
      "provenance": [],
      "authorship_tag": "ABX9TyMr6O9HQwcnsdBmo6+yy466",
      "include_colab_link": true
    },
    "kernelspec": {
      "name": "python3",
      "display_name": "Python 3"
    },
    "language_info": {
      "name": "python"
    }
  },
  "cells": [
    {
      "cell_type": "markdown",
      "metadata": {
        "id": "view-in-github",
        "colab_type": "text"
      },
      "source": [
        "<a href=\"https://colab.research.google.com/github/sidhansukeshri/REGISTRATION-NO.-RA2211042010032-PYTHON--BASICS-/blob/main/RA2211042010032.ipynb\" target=\"_parent\"><img src=\"https://colab.research.google.com/assets/colab-badge.svg\" alt=\"Open In Colab\"/></a>"
      ]
    },
    {
      "cell_type": "markdown",
      "source": [
        "1.program to devide and print two numbers!"
      ],
      "metadata": {
        "id": "S55wf-JYNUdz"
      }
    },
    {
      "cell_type": "code",
      "execution_count": 11,
      "metadata": {
        "colab": {
          "base_uri": "https://localhost:8080/"
        },
        "id": "h0SlkL0YIpBI",
        "outputId": "5bbcab6d-a25f-4b9f-9b02-930d22652cc6"
      },
      "outputs": [
        {
          "output_type": "stream",
          "name": "stdout",
          "text": [
            "enter the 1st nunber:36\n",
            "enter the 2nd number:9\n",
            "Division : 4.0\n"
          ]
        }
      ],
      "source": [
        "a=int(input(\"enter the 1st nunber:\"))\n",
        "b=int(input(\"enter the 2nd number:\"))\n",
        "print(\"Division :\",a/b)"
      ]
    },
    {
      "cell_type": "markdown",
      "source": [
        "2.program to divide and print two user inputs!"
      ],
      "metadata": {
        "id": "sbso6wFZNTEX"
      }
    },
    {
      "cell_type": "code",
      "source": [
        "a=90\n",
        "b=50\n",
        "print(\"Division :\",a/b)\n"
      ],
      "metadata": {
        "colab": {
          "base_uri": "https://localhost:8080/"
        },
        "id": "hGL3-HcsNCGC",
        "outputId": "a8346437-99cd-4708-ab02-9b70ceeef8c7"
      },
      "execution_count": 32,
      "outputs": [
        {
          "output_type": "stream",
          "name": "stdout",
          "text": [
            "Division : 1.8\n"
          ]
        }
      ]
    },
    {
      "cell_type": "markdown",
      "source": [
        "3.program to subtract two numbers!"
      ],
      "metadata": {
        "id": "-jj7JU_9Njy0"
      }
    },
    {
      "cell_type": "code",
      "source": [
        "a=90\n",
        "b=50\n",
        "print(\"subtraction :\",a-b)"
      ],
      "metadata": {
        "colab": {
          "base_uri": "https://localhost:8080/"
        },
        "id": "Vjrao_5cND0C",
        "outputId": "c9755ae0-3903-44d9-d6ac-be6256adc614"
      },
      "execution_count": 33,
      "outputs": [
        {
          "output_type": "stream",
          "name": "stdout",
          "text": [
            "subtraction : 40\n"
          ]
        }
      ]
    },
    {
      "cell_type": "markdown",
      "source": [
        "4.program to check if the input number is double digit or not !"
      ],
      "metadata": {
        "id": "497AVr_MOAzC"
      }
    },
    {
      "cell_type": "code",
      "source": [
        "num=int(input(\"enter the number:\"))\n",
        "print(\"The number you entered is :\",num)\n",
        "if (num>99):\n",
        "  print(\"The number is not double digit!\")\n",
        "elif (num<99):\n",
        "  print(\"The number is double digit!\")"
      ],
      "metadata": {
        "colab": {
          "base_uri": "https://localhost:8080/"
        },
        "id": "zKN_uJyhND2p",
        "outputId": "e634dbe1-9826-4f8b-bfdc-aee28812300f"
      },
      "execution_count": 14,
      "outputs": [
        {
          "output_type": "stream",
          "name": "stdout",
          "text": [
            "enter the number:86\n",
            "The number you entered is : 86\n",
            "The number is double digit!\n"
          ]
        }
      ]
    },
    {
      "cell_type": "markdown",
      "source": [
        "5.program to multiply two numbers!"
      ],
      "metadata": {
        "id": "5ScV3n7oN6dY"
      }
    },
    {
      "cell_type": "code",
      "source": [
        "a=90\n",
        "b=50\n",
        "print(\"multiplication :\",a*b)\n"
      ],
      "metadata": {
        "colab": {
          "base_uri": "https://localhost:8080/"
        },
        "id": "0gvAtmJ1ND5x",
        "outputId": "d970da74-de51-40fc-eb4f-c175a0a2f49f"
      },
      "execution_count": 15,
      "outputs": [
        {
          "output_type": "stream",
          "name": "stdout",
          "text": [
            "multiplication : 4500\n"
          ]
        }
      ]
    },
    {
      "cell_type": "markdown",
      "source": [
        "6.program to print the sum of two numbers!"
      ],
      "metadata": {
        "id": "mEqqK4dKOWDH"
      }
    },
    {
      "cell_type": "code",
      "source": [
        "a=10\n",
        "b=50\n",
        "c=a=b\n",
        "print(\"sum=\",c)"
      ],
      "metadata": {
        "colab": {
          "base_uri": "https://localhost:8080/"
        },
        "id": "EvkqpsAhND98",
        "outputId": "5d99f8bd-41c2-40c5-b7d2-74e28e2d8420"
      },
      "execution_count": 16,
      "outputs": [
        {
          "output_type": "stream",
          "name": "stdout",
          "text": [
            "sum= 50\n"
          ]
        }
      ]
    },
    {
      "cell_type": "markdown",
      "source": [
        "7.program to print sum of two floting nmbers!"
      ],
      "metadata": {
        "id": "qzbCrTbeOYh4"
      }
    },
    {
      "cell_type": "code",
      "source": [
        "a=float(10)\n",
        "b=float(50)\n",
        "c=a=b\n",
        "print(\"sum=\",c)"
      ],
      "metadata": {
        "colab": {
          "base_uri": "https://localhost:8080/"
        },
        "id": "ICQD9vW2NECp",
        "outputId": "58f199a6-f9ac-40e3-8ae0-6561b335bc07"
      },
      "execution_count": 17,
      "outputs": [
        {
          "output_type": "stream",
          "name": "stdout",
          "text": [
            "sum= 50.0\n"
          ]
        }
      ]
    },
    {
      "cell_type": "markdown",
      "source": [
        "8.program to print the multiplication of two floation numbers !"
      ],
      "metadata": {
        "id": "IZHdhRT0OkD9"
      }
    },
    {
      "cell_type": "code",
      "source": [
        "a=float(90)\n",
        "b=float(50)\n",
        "print(\"multiplication :\",a*b)"
      ],
      "metadata": {
        "colab": {
          "base_uri": "https://localhost:8080/"
        },
        "id": "iW7vEHOsOzTI",
        "outputId": "4a90f1dc-805d-419c-9fff-3b9510ea32d1"
      },
      "execution_count": 18,
      "outputs": [
        {
          "output_type": "stream",
          "name": "stdout",
          "text": [
            "multiplication : 4500.0\n"
          ]
        }
      ]
    },
    {
      "cell_type": "markdown",
      "source": [
        "9.program to print the division of two numbers !"
      ],
      "metadata": {
        "id": "FU-zJ1KCPA2W"
      }
    },
    {
      "cell_type": "code",
      "source": [
        "a=float(90)\n",
        "b=float(50)\n",
        "print(\"multiplication :\",a/b)"
      ],
      "metadata": {
        "colab": {
          "base_uri": "https://localhost:8080/"
        },
        "id": "l7XUoCl4PF9y",
        "outputId": "401bc919-7e63-470e-935e-3e23c234d706"
      },
      "execution_count": 19,
      "outputs": [
        {
          "output_type": "stream",
          "name": "stdout",
          "text": [
            "multiplication : 1.8\n"
          ]
        }
      ]
    },
    {
      "cell_type": "markdown",
      "source": [
        "10.program to multiply and print the user provided input !"
      ],
      "metadata": {
        "id": "2uKo6f--PQk0"
      }
    },
    {
      "cell_type": "code",
      "source": [
        "a=float(input(\"enter the 1st nunber:\"))\n",
        "b=float(input(\"enter the 2nd nunber:\"))\n",
        "print(\"multiplication :\",a*b)"
      ],
      "metadata": {
        "colab": {
          "base_uri": "https://localhost:8080/"
        },
        "id": "Kor1XDYtPZII",
        "outputId": "55ec0b90-5094-4950-95c8-f7d31029f663"
      },
      "execution_count": 21,
      "outputs": [
        {
          "output_type": "stream",
          "name": "stdout",
          "text": [
            "enter the 1st nunber:38\n",
            "enter the 2nd nunber:60\n",
            "multiplication : 2280.0\n"
          ]
        }
      ]
    },
    {
      "cell_type": "markdown",
      "source": [
        "11.program to divide and print the user provided input !"
      ],
      "metadata": {
        "id": "CK7Zd2PdPnlo"
      }
    },
    {
      "cell_type": "code",
      "source": [
        "a=float(input(\"enter the 1st nunber:\"))\n",
        "b=float(input(\"enter the 2nd nunber:\"))\n",
        "print(\"divide :\",a/b)"
      ],
      "metadata": {
        "colab": {
          "base_uri": "https://localhost:8080/"
        },
        "id": "NaKOQQj6Pq9w",
        "outputId": "da25a2b6-0fbe-4f5d-f1f5-85c76131a4fb"
      },
      "execution_count": 23,
      "outputs": [
        {
          "output_type": "stream",
          "name": "stdout",
          "text": [
            "enter the 1st nunber:26\n",
            "enter the 2nd nunber:78\n",
            "divide : 0.3333333333333333\n"
          ]
        }
      ]
    },
    {
      "cell_type": "markdown",
      "source": [
        "12.program to floor divide and print the user provided input !"
      ],
      "metadata": {
        "id": "_NeECnqcP-tY"
      }
    },
    {
      "cell_type": "code",
      "source": [
        "a=float(input(\"enter the 1st nunber:\"))\n",
        "b=float(input(\"enter the 2nd nunber:\"))\n",
        "print(\"divide :\",a//b)"
      ],
      "metadata": {
        "colab": {
          "base_uri": "https://localhost:8080/"
        },
        "id": "ChWogkXKQHol",
        "outputId": "ff36326c-fb09-42d2-9b14-047a0f31ce95"
      },
      "execution_count": 26,
      "outputs": [
        {
          "output_type": "stream",
          "name": "stdout",
          "text": [
            "enter the 1st nunber:169\n",
            "enter the 2nd nunber:64\n",
            "divide : 2.0\n"
          ]
        }
      ]
    },
    {
      "cell_type": "markdown",
      "source": [
        "13.printing lists elements !"
      ],
      "metadata": {
        "id": "YwJDsWSHQV6_"
      }
    },
    {
      "cell_type": "code",
      "source": [
        "list=['sidhansu','sankalp','sanya','apurv']\n",
        "print (list)\n",
        "print (list[0:])\n",
        "print (list[1:3])\n",
        "print (list[0])\n",
        "print (list*2)"
      ],
      "metadata": {
        "colab": {
          "base_uri": "https://localhost:8080/"
        },
        "id": "cEUG9DfQRV5V",
        "outputId": "2bbb8a32-b622-4655-ae3b-92257bd89ae2"
      },
      "execution_count": 31,
      "outputs": [
        {
          "output_type": "stream",
          "name": "stdout",
          "text": [
            "['sidhansu', 'sankalp', 'sanya', 'apurv']\n",
            "['sidhansu', 'sankalp', 'sanya', 'apurv']\n",
            "['sankalp', 'sanya']\n",
            "sidhansu\n",
            "['sidhansu', 'sankalp', 'sanya', 'apurv', 'sidhansu', 'sankalp', 'sanya', 'apurv']\n"
          ]
        }
      ]
    },
    {
      "cell_type": "markdown",
      "source": [
        "14.check if person is eligible for voating or not !"
      ],
      "metadata": {
        "id": "8sDJpPQbR_OQ"
      }
    },
    {
      "cell_type": "code",
      "source": [
        "age=int(input(\"enter your age :\"))\n",
        "if (age >=18):\n",
        "  print(\"You are eligible to vote !\")\n",
        "else :\n",
        "  print(\"You are not eligible to vote !\")"
      ],
      "metadata": {
        "colab": {
          "base_uri": "https://localhost:8080/"
        },
        "id": "f8AGGWuRSNMX",
        "outputId": "89a3ead2-c452-48a2-e81a-e46c0e375024"
      },
      "execution_count": 36,
      "outputs": [
        {
          "output_type": "stream",
          "name": "stdout",
          "text": [
            "enter your age :18\n",
            "You are eligible to vote !\n"
          ]
        }
      ]
    },
    {
      "cell_type": "markdown",
      "source": [
        "15.authorised person only !"
      ],
      "metadata": {
        "id": "HM6cA8oFTFwO"
      }
    },
    {
      "cell_type": "code",
      "source": [
        "name=input(\"enter your name :\")\n",
        "if (name=='SIDHANSU' or name =='sidhansu' or name=='Sidhansu'):\n",
        "  print(\"You are authorised!\")\n",
        "else :\n",
        "  print(\"You are not authorised !\")"
      ],
      "metadata": {
        "colab": {
          "base_uri": "https://localhost:8080/"
        },
        "id": "qZlPI-b_TZZL",
        "outputId": "58a7a30e-979b-4d8b-b160-16e5680edb70"
      },
      "execution_count": 38,
      "outputs": [
        {
          "output_type": "stream",
          "name": "stdout",
          "text": [
            "enter your name :sidhansu\n",
            "You are authorised!\n"
          ]
        }
      ]
    },
    {
      "cell_type": "markdown",
      "source": [
        "16.print in new line !"
      ],
      "metadata": {
        "id": "ZgfIFJk0USgg"
      }
    },
    {
      "cell_type": "code",
      "source": [
        "print (\"hello world\\nhow its going on ?\")"
      ],
      "metadata": {
        "colab": {
          "base_uri": "https://localhost:8080/"
        },
        "id": "7KgIGkOAUdR9",
        "outputId": "510bc763-390a-4c54-f62a-da301779eaf0"
      },
      "execution_count": 41,
      "outputs": [
        {
          "output_type": "stream",
          "name": "stdout",
          "text": [
            "hello world\n",
            "how its going on ?\n"
          ]
        }
      ]
    },
    {
      "cell_type": "markdown",
      "source": [
        "17.fahrenheit to celsius!"
      ],
      "metadata": {
        "id": "MDVgaruBUrpk"
      }
    },
    {
      "cell_type": "code",
      "source": [
        "f=float(input(\"enter the temperature in fahrenheit:\"))\n",
        "c=(f-32)/1.8\n",
        "print(\"temperature in clsius:\",c)"
      ],
      "metadata": {
        "colab": {
          "base_uri": "https://localhost:8080/"
        },
        "id": "1vYD1O5NVBfr",
        "outputId": "9b249692-1a5d-4333-eeeb-bfa6d04883f9"
      },
      "execution_count": 44,
      "outputs": [
        {
          "output_type": "stream",
          "name": "stdout",
          "text": [
            "enter the temperature in fahrenheit:179\n",
            "temperature in clsius: 81.66666666666667\n"
          ]
        }
      ]
    },
    {
      "cell_type": "markdown",
      "source": [
        "18.celsius to fahrenheit!"
      ],
      "metadata": {
        "id": "3vGCX_azVqXD"
      }
    },
    {
      "cell_type": "code",
      "source": [
        "c=float(input(\"enter the temperature in celsius:\"))\n",
        "f=(c*1.8)+32\n",
        "print(\"temperature in fahrenheit:\",f)"
      ],
      "metadata": {
        "colab": {
          "base_uri": "https://localhost:8080/"
        },
        "id": "S0okHy6SVxZ0",
        "outputId": "7a01ca3d-a375-40b7-f747-6083b66c0bff"
      },
      "execution_count": 48,
      "outputs": [
        {
          "output_type": "stream",
          "name": "stdout",
          "text": [
            "enter the temperature in celsius:57\n",
            "temperature in fahrenheit: 134.60000000000002\n"
          ]
        }
      ]
    },
    {
      "cell_type": "markdown",
      "source": [
        "19.check if numbers are perfectly divisible !"
      ],
      "metadata": {
        "id": "gobH_dgIWWdI"
      }
    },
    {
      "cell_type": "code",
      "source": [
        "a=float(input(\"enter the 1st nunber:\"))\n",
        "b=float(input(\"enter the 2nd nunber:\"))\n",
        "if (a%b==0):\n",
        "  print (\"Both are perfectly divisible !\")\n",
        "else :\n",
        "  print (\"Both are not perfectly divisinle !\")"
      ],
      "metadata": {
        "colab": {
          "base_uri": "https://localhost:8080/"
        },
        "id": "CJ2wi8CYWqDY",
        "outputId": "900cdf0b-6b9f-4f8f-e3a3-a931fe396d9d"
      },
      "execution_count": 51,
      "outputs": [
        {
          "output_type": "stream",
          "name": "stdout",
          "text": [
            "enter the 1st nunber:10\n",
            "enter the 2nd nunber:2\n",
            "Both are perfectly divisible !\n"
          ]
        }
      ]
    },
    {
      "cell_type": "markdown",
      "source": [
        "20.for loop"
      ],
      "metadata": {
        "id": "OSOMfHl4XgD-"
      }
    },
    {
      "cell_type": "code",
      "source": [
        "fruits = [\"apple\", \"banana\", \"cherry\"]\n",
        "for x in fruits:\n",
        "  print(x)"
      ],
      "metadata": {
        "id": "OkjFvGWIY4y8",
        "outputId": "b9a45cb4-d6e1-458d-8382-1263c29105a1",
        "colab": {
          "base_uri": "https://localhost:8080/"
        }
      },
      "execution_count": 52,
      "outputs": [
        {
          "output_type": "stream",
          "name": "stdout",
          "text": [
            "apple\n",
            "banana\n",
            "cherry\n"
          ]
        }
      ]
    }
  ]
}